{
 "cells": [
  {
   "cell_type": "markdown",
   "metadata": {},
   "source": [
    "# Tournament Collection\n",
    "\n",
    "Purpose of this notebook is to create csv files of tournaments within the Northern California area during a specific timeframe."
   ]
  },
  {
   "cell_type": "code",
   "execution_count": 31,
   "metadata": {},
   "outputs": [],
   "source": [
    "#Imports\n",
    "from datetime import datetime\n",
    "import json\n",
    "import pandas as pd\n",
    "import requests"
   ]
  },
  {
   "cell_type": "code",
   "execution_count": 32,
   "metadata": {},
   "outputs": [],
   "source": [
    "AUTH_TOKEN = '3a8df0ab61dea506d92c3bab4fd27412'"
   ]
  },
  {
   "cell_type": "code",
   "execution_count": 33,
   "metadata": {},
   "outputs": [],
   "source": [
    "request_url = 'https://api.start.gg/gql/alpha'"
   ]
  },
  {
   "cell_type": "markdown",
   "metadata": {},
   "source": [
    "## Step 1: Retrieve Unix Timestamps for GraphQL\n",
    "\n",
    "This allows us to batch our tournaments. "
   ]
  },
  {
   "cell_type": "code",
   "execution_count": 34,
   "metadata": {},
   "outputs": [],
   "source": [
    "def date_to_unix(date_string, date_format=\"%Y-%m-%d\"):\n",
    "    try:\n",
    "        date_obj = datetime.strptime(date_string, date_format)\n",
    "        unix_timestamp = int(date_obj.timestamp())\n",
    "        return unix_timestamp\n",
    "    except ValueError as e:\n",
    "        print(f\"Error: {e}\")\n",
    "        return None"
   ]
  },
  {
   "cell_type": "code",
   "execution_count": 35,
   "metadata": {},
   "outputs": [],
   "source": [
    "def monthly_unix_timestamps(start_date, end_date, date_format=\"%Y-%m-%d\"):\n",
    "    try:\n",
    "        start = datetime.strptime(start_date, date_format)\n",
    "        end = datetime.strptime(end_date, date_format)\n",
    "        \n",
    "        if start > end:\n",
    "            raise ValueError(\"Start date must be before the end date.\")\n",
    "        \n",
    "        timestamps = [date_to_unix(start_date, date_format)]\n",
    "        current = start\n",
    "        \n",
    "        while current < end:\n",
    "            year = current.year\n",
    "            month = current.month + 1\n",
    "            if month > 12: \n",
    "                month = 1\n",
    "                year += 1\n",
    "            current = datetime(year, month, 1)\n",
    "            if current <= end:\n",
    "                timestamps.append(int(current.timestamp()))\n",
    "        \n",
    "        timestamps.append(date_to_unix(end_date, date_format))\n",
    "        return timestamps\n",
    "    except ValueError as e:\n",
    "        print(f\"Error: {e}\")\n",
    "        return None"
   ]
  },
  {
   "cell_type": "code",
   "execution_count": 36,
   "metadata": {},
   "outputs": [
    {
     "data": {
      "text/plain": [
       "[1727766000, 1730444400, 1733040000, 1735632000]"
      ]
     },
     "execution_count": 36,
     "metadata": {},
     "output_type": "execute_result"
    }
   ],
   "source": [
    "start_date = \"2024-10-01\"\n",
    "end_date = \"2024-12-31\"\n",
    "timestamps = monthly_unix_timestamps(start_date, end_date)\n",
    "timestamps"
   ]
  },
  {
   "cell_type": "markdown",
   "metadata": {},
   "source": [
    "## Step 2: Query Generation\n",
    "\n",
    "Here, we use our batched dates to define our GraphQL Queries."
   ]
  },
  {
   "cell_type": "code",
   "execution_count": 37,
   "metadata": {},
   "outputs": [],
   "source": [
    "def generate_graphql_queries_fstring(timestamps):\n",
    "    template = \"\"\"\n",
    "query BayNorCalTournaments($page: Int, $perPage: Int, $coordinates: String!, $radius: String!) {{\n",
    "  tournaments(\n",
    "    query: {{\n",
    "    page: $page\n",
    "    perPage: $perPage\n",
    "    filter: {{\n",
    "      location: {{\n",
    "        distanceFrom: $coordinates,\n",
    "        distance: $radius\n",
    "      }},\n",
    "      afterDate: {after_date} \n",
    "      beforeDate: {before_date}\n",
    "    }}\n",
    "    sortBy:\"startAt\"\n",
    "  }}) {{\n",
    "    nodes {{\n",
    "      id\n",
    "      name\n",
    "      city\n",
    "      slug\n",
    "      startAt\n",
    "      events {{\n",
    "        slug\n",
    "        numEntrants\n",
    "        videogame {{\n",
    "          name\n",
    "        }}\n",
    "      }}\n",
    "    }}\n",
    "  }}\n",
    "}}\n",
    "\"\"\"\n",
    "\n",
    "    queries = []\n",
    "\n",
    "    for i in range(len(timestamps) - 1):\n",
    "        after_date = timestamps[i]\n",
    "        before_date = timestamps[i + 1]\n",
    "\n",
    "        query = template.format(after_date=after_date, before_date=before_date)\n",
    "        queries.append(query)\n",
    "\n",
    "    return queries"
   ]
  },
  {
   "cell_type": "code",
   "execution_count": 38,
   "metadata": {},
   "outputs": [
    {
     "name": "stdout",
     "output_type": "stream",
     "text": [
      "\n",
      "query BayNorCalTournaments($page: Int, $perPage: Int, $coordinates: String!, $radius: String!) {\n",
      "  tournaments(\n",
      "    query: {\n",
      "    page: $page\n",
      "    perPage: $perPage\n",
      "    filter: {\n",
      "      location: {\n",
      "        distanceFrom: $coordinates,\n",
      "        distance: $radius\n",
      "      },\n",
      "      afterDate: 1727766000 \n",
      "      beforeDate: 1730444400\n",
      "    }\n",
      "    sortBy:\"startAt\"\n",
      "  }) {\n",
      "    nodes {\n",
      "      id\n",
      "      name\n",
      "      city\n",
      "      slug\n",
      "      startAt\n",
      "      events {\n",
      "        slug\n",
      "        numEntrants\n",
      "        videogame {\n",
      "          name\n",
      "        }\n",
      "      }\n",
      "    }\n",
      "  }\n",
      "}\n",
      "\n"
     ]
    }
   ],
   "source": [
    "queries = generate_graphql_queries_fstring(timestamps)\n",
    "print(queries[0])"
   ]
  },
  {
   "cell_type": "markdown",
   "metadata": {},
   "source": [
    "## Step 3: Tournament Retrieval\n",
    "\n",
    "From here, we will use our batches to create tournament dataframes by month. "
   ]
  },
  {
   "cell_type": "code",
   "execution_count": 39,
   "metadata": {},
   "outputs": [],
   "source": [
    "def flatten_nested_json_df(df):\n",
    "    \n",
    "    df = df.reset_index()\n",
    "    \n",
    "    print(f\"original shape: {df.shape}\")\n",
    "    print(f\"original columns: {df.columns}\")\n",
    "    \n",
    "    \n",
    "    # search for columns to explode/flatten\n",
    "    s = (df.map(type) == list).all()\n",
    "    list_columns = s[s].index.tolist()\n",
    "    \n",
    "    s = (df.map(type) == dict).all()\n",
    "    dict_columns = s[s].index.tolist()\n",
    "    \n",
    "    print(f\"lists: {list_columns}, dicts: {dict_columns}\")\n",
    "    while len(list_columns) > 0 or len(dict_columns) > 0:\n",
    "        new_columns = []\n",
    "        \n",
    "        for col in dict_columns:\n",
    "            print(f\"flattening: {col}\")\n",
    "            # explode dictionaries horizontally, adding new columns\n",
    "            horiz_exploded = pd.json_normalize(df[col]).add_prefix(f'{col}.')\n",
    "            horiz_exploded.index = df.index\n",
    "            df = pd.concat([df, horiz_exploded], axis=1).drop(columns=[col])\n",
    "            new_columns.extend(horiz_exploded.columns) # inplace\n",
    "        \n",
    "        for col in list_columns:\n",
    "            print(f\"exploding: {col}\")\n",
    "            # explode lists vertically, adding new columns\n",
    "            df = df.drop(columns=[col]).join(df[col].explode().to_frame())\n",
    "            # Prevent combinatorial explosion when multiple\n",
    "            # cols have lists or lists of lists\n",
    "            df = df.reset_index(drop=True)\n",
    "            new_columns.append(col)\n",
    "        \n",
    "        # check if there are still dict o list fields to flatten\n",
    "        s = (df[new_columns].map(type) == list).all()\n",
    "        list_columns = s[s].index.tolist()\n",
    "\n",
    "        s = (df[new_columns].map(type) == dict).all()\n",
    "        dict_columns = s[s].index.tolist()\n",
    "        \n",
    "        print(f\"lists: {list_columns}, dicts: {dict_columns}\")\n",
    "        \n",
    "    print(f\"final shape: {df.shape}\")\n",
    "    print(f\"final columns: {df.columns}\")\n",
    "    return df"
   ]
  },
  {
   "cell_type": "code",
   "execution_count": 40,
   "metadata": {},
   "outputs": [],
   "source": [
    "def get_all_tournies(auth_token, query, coords, radius, num_per_page):\n",
    "  graphql_query = query \n",
    "\n",
    "  tournies = []\n",
    "\n",
    "  # This range here is used because the results from startGG are paginated, i.e. they don't show all the results,\n",
    "  #   they're shown in pages. If there were 100 resuls, and we could only see 10 per page, then we would need to go through\n",
    "  #   and make ten seperate requests to see all the tournaments we need\n",
    "  for i in range(1, 10):\n",
    "    variables = {\n",
    "        \"page\": i,\n",
    "        \"perPage\": num_per_page,\n",
    "        \"coordinates\": coords,\n",
    "        \"radius\": \"50mi\"\n",
    "    }\n",
    "    data = {\"query\" : graphql_query, \"variables\": variables}\n",
    "    json_data = json.dumps(data)\n",
    "    auth_header = auth_token\n",
    "    header = {'Authorization': 'Bearer ' + auth_header}  \n",
    "\n",
    "\n",
    "    # Extracting & making the the actual response to startgg\n",
    "    response = requests.post(url=request_url, headers=header, data=json_data)\n",
    "    json_resp = json.loads(response.text)\n",
    "    print(json_resp)\n",
    "    if (\"errors\" not in json_resp):\n",
    "       \n",
    "      curr_tournies_page = json_resp['data']['tournaments']['nodes']\n",
    "      print(\"Number of tournies in page is:\" + str(len(curr_tournies_page)))\n",
    "\n",
    "      tournies += curr_tournies_page\n",
    "  return tournies"
   ]
  },
  {
   "cell_type": "code",
   "execution_count": 41,
   "metadata": {},
   "outputs": [],
   "source": [
    "tournies = []\n",
    "df_list = []\n",
    "\n",
    "SF_BASED_COORDS = \"37.77151615492457, -122.41563048985462\"\n",
    "SF_RADIUS = \"70mi\"\n",
    "\n",
    "SAC_BASED_COORDS = \"38.57608096237729, -121.49183616631059\"\n",
    "SAC_RADIUS = \"40mi\"\n",
    "\n",
    "NUM_PER_PAGE = 50"
   ]
  },
  {
   "cell_type": "code",
   "execution_count": 49,
   "metadata": {},
   "outputs": [
    {
     "name": "stdout",
     "output_type": "stream",
     "text": [
      "{'data': {'tournaments': {'nodes': [{'id': 728412, 'name': 'Tech City Tekken #150 - T8 Weekly', 'city': 'Sunnyvale', 'slug': 'tournament/tech-city-tekken-150-t8-weekly', 'startAt': 1731036600, 'events': [{'slug': 'tournament/tech-city-tekken-150-t8-weekly/event/tekken-8-singles', 'numEntrants': 18, 'videogame': {'name': 'TEKKEN 8'}}]}, {'id': 709505, 'name': 'Astral Beatdown November 2024', 'city': 'Milpitas', 'slug': 'tournament/astral-beatdown-november-2024', 'startAt': 1731182400, 'events': [{'slug': 'tournament/astral-beatdown-november-2024/event/norcalibur', 'numEntrants': 8, 'videogame': {'name': 'SOULCALIBUR VI'}}, {'slug': 'tournament/astral-beatdown-november-2024/event/umamusume-pretty-derby-party-dash', 'numEntrants': 3, 'videogame': {'name': 'Umamusume: Pretty Derby - Party Dash'}}, {'slug': 'tournament/astral-beatdown-november-2024/event/2pm-granblue-fantasy-versus-rising', 'numEntrants': 43, 'videogame': {'name': 'Granblue Fantasy Versus: Rising'}}, {'slug': 'tournament/astral-beatdown-november-2024/event/samurai-shodown', 'numEntrants': 10, 'videogame': {'name': 'SAMURAI SHODOWN'}}, {'slug': 'tournament/astral-beatdown-november-2024/event/4pm-melty-blood-type-lumina', 'numEntrants': 9, 'videogame': {'name': 'Melty Blood: Type Lumina'}}]}, {'id': 699823, 'name': 'Remix', 'city': 'San Jose', 'slug': 'tournament/remix', 'startAt': 1731175200, 'events': [{'slug': 'tournament/remix/event/pump-it-up-speed', 'numEntrants': 32, 'videogame': {'name': 'Pump it Up Phoenix'}}, {'slug': 'tournament/remix/event/pump-it-up-freestyle', 'numEntrants': 4, 'videogame': {'name': 'Pump it Up Phoenix'}}, {'slug': 'tournament/remix/event/dancedancerevolution-singles', 'numEntrants': 61, 'videogame': {'name': 'Dance Dance Revolution World'}}, {'slug': 'tournament/remix/event/beatmania-iidx', 'numEntrants': 18, 'videogame': {'name': 'Beatmania IIDX 31 Epolis'}}, {'slug': 'tournament/remix/event/sound-voltex', 'numEntrants': 18, 'videogame': {'name': 'SOUND VOLTEX EXCEED GEAR'}}, {'slug': 'tournament/remix/event/dancerush-stardom', 'numEntrants': 8, 'videogame': {'name': 'DANCERUSH STARDOM'}}, {'slug': 'tournament/remix/event/dancedancerevolution-division-5-finals-singles', 'numEntrants': 17, 'videogame': {'name': 'Dance Dance Revolution World'}}, {'slug': 'tournament/remix/event/dancedancerevolution-division-4-finals-singles', 'numEntrants': 12, 'videogame': {'name': 'Dance Dance Revolution World'}}, {'slug': 'tournament/remix/event/dancedancerevolution-division-3-finals-singles', 'numEntrants': 10, 'videogame': {'name': 'Dance Dance Revolution World'}}, {'slug': 'tournament/remix/event/dancedancerevolution-division-2-finals-singles', 'numEntrants': 6, 'videogame': {'name': 'Dance Dance Revolution World'}}]}, {'id': 726344, 'name': 'Smash the Galaxy #148', 'city': 'Dublin', 'slug': 'tournament/smash-the-galaxy-148', 'startAt': 1730674800, 'events': [{'slug': 'tournament/smash-the-galaxy-148/event/mk1-bracket', 'numEntrants': 0, 'videogame': {'name': 'Mortal Kombat 1'}}, {'slug': 'tournament/smash-the-galaxy-148/event/sf6-bracket', 'numEntrants': 8, 'videogame': {'name': 'Street Fighter 6'}}]}, {'id': 730255, 'name': 'Melee @ Abbey Tavern #72', 'city': 'San Francisco', 'slug': 'tournament/melee-abbey-tavern-72', 'startAt': 1731465000, 'events': [{'slug': 'tournament/melee-abbey-tavern-72/event/melee-singles-7-30-start', 'numEntrants': 34, 'videogame': {'name': 'Super Smash Bros. Melee'}}, {'slug': 'tournament/melee-abbey-tavern-72/event/melee-doubles-6-30-start', 'numEntrants': 8, 'videogame': {'name': 'Super Smash Bros. Melee'}}]}, {'id': 724529, 'name': 'Guildhouse Fighters 148 - Street Fighter 6 and Melee weekly', 'city': 'San Jose', 'slug': 'tournament/guildhouse-fighters-148-street-fighter-6-and-melee-weekly', 'startAt': 1731031200, 'events': [{'slug': 'tournament/guildhouse-fighters-148-street-fighter-6-and-melee-weekly/event/ssbm-singles-wii-monitors-7-45pm', 'numEntrants': 23, 'videogame': {'name': 'Super Smash Bros. Melee'}}, {'slug': 'tournament/guildhouse-fighters-148-street-fighter-6-and-melee-weekly/event/street-fighter-6-ps5-7-45-pm', 'numEntrants': 17, 'videogame': {'name': 'Street Fighter 6'}}]}, {'id': 730518, 'name': 'Tech City Tekken #151 - T8 Weekly', 'city': 'Sunnyvale', 'slug': 'tournament/tech-city-tekken-151-t8-weekly', 'startAt': 1731641400, 'events': [{'slug': 'tournament/tech-city-tekken-151-t8-weekly/event/tekken-8-singles', 'numEntrants': 20, 'videogame': {'name': 'TEKKEN 8'}}]}, {'id': 730089, 'name': 'Battle for the Bay 50', 'city': 'San Francisco', 'slug': 'tournament/battle-for-the-bay-50', 'startAt': 1731787200, 'events': [{'slug': 'tournament/battle-for-the-bay-50/event/rivals-2-singles-25-pot-bonus', 'numEntrants': 2, 'videogame': {'name': 'Rivals of Aether II'}}, {'slug': 'tournament/battle-for-the-bay-50/event/ultimate-singles-50-pot-bonus', 'numEntrants': 11, 'videogame': {'name': 'Super Smash Bros. Ultimate'}}]}, {'id': 724086, 'name': \"BlinC and You'll Miss It #81\", 'city': 'Petaluma', 'slug': 'tournament/blinc-and-you-ll-miss-it-81', 'startAt': 1731726000, 'events': [{'slug': 'tournament/blinc-and-you-ll-miss-it-81/event/redemption', 'numEntrants': 0, 'videogame': {'name': 'Super Smash Bros. Ultimate'}}, {'slug': 'tournament/blinc-and-you-ll-miss-it-81/event/singles-ultimate', 'numEntrants': 10, 'videogame': {'name': 'Super Smash Bros. Ultimate'}}]}, {'id': 722647, 'name': \"King's Cup 30 Friday Nov 15th\", 'city': 'San Francisco', 'slug': 'tournament/king-s-cup-30-friday-nov-15th-1', 'startAt': 1731722400, 'events': [{'slug': 'tournament/king-s-cup-30-friday-nov-15th-1/event/sf6-7-30-pm', 'numEntrants': 64, 'videogame': {'name': 'Street Fighter 6'}}, {'slug': 'tournament/king-s-cup-30-friday-nov-15th-1/event/tekken-8-7-30-pm', 'numEntrants': 33, 'videogame': {'name': 'TEKKEN 8'}}, {'slug': 'tournament/king-s-cup-30-friday-nov-15th-1/event/ggst-7-30-pm', 'numEntrants': 17, 'videogame': {'name': 'Guilty Gear: Strive'}}, {'slug': 'tournament/king-s-cup-30-friday-nov-15th-1/event/usfiv-8-00-pm', 'numEntrants': 21, 'videogame': {'name': 'Ultra Street Fighter IV'}}]}, {'id': 730087, 'name': 'VERSUS Reborn #180', 'city': 'Sunnyvale', 'slug': 'tournament/versus-reborn-180', 'startAt': 1731468600, 'events': [{'slug': 'tournament/versus-reborn-180/event/smash-ultimate-doubles', 'numEntrants': 0, 'videogame': {'name': 'Super Smash Bros. Ultimate'}}, {'slug': 'tournament/versus-reborn-180/event/smash-ultimate-singles', 'numEntrants': 22, 'videogame': {'name': 'Super Smash Bros. Ultimate'}}]}, {'id': 731781, 'name': 'Breakout Smash #22', 'city': 'San Jose', 'slug': 'tournament/breakout-smash-22', 'startAt': 1731987000, 'events': [{'slug': 'tournament/breakout-smash-22/event/smash-singles', 'numEntrants': 2, 'videogame': {'name': 'Super Smash Bros. Ultimate'}}]}, {'id': 732203, 'name': 'Slugfest #127 - SF6 Weekly', 'city': 'Sunnyvale', 'slug': 'tournament/slugfest-127-sf6-weekly', 'startAt': 1732165200, 'events': [{'slug': 'tournament/slugfest-127-sf6-weekly/event/street-fighter-6-singles', 'numEntrants': 14, 'videogame': {'name': 'Street Fighter 6'}}]}, {'id': 722664, 'name': 'East Bay Clash 20 Friday Nov 29th', 'city': 'Fremont', 'slug': 'tournament/east-bay-clash-20-friday-nov-29th', 'startAt': 1732935600, 'events': [{'slug': 'tournament/east-bay-clash-20-friday-nov-29th/event/tekken-8-8-00-pm', 'numEntrants': 13, 'videogame': {'name': 'TEKKEN 8'}}, {'slug': 'tournament/east-bay-clash-20-friday-nov-29th/event/street-fighter-6-9-00-pm', 'numEntrants': 33, 'videogame': {'name': 'Street Fighter 6'}}]}, {'id': 726680, 'name': 'RetroEdge - Smash Monthly 5', 'city': 'Vallejo', 'slug': 'tournament/retroedge-smash-monthly-5', 'startAt': 1730588400, 'events': [{'slug': 'tournament/retroedge-smash-monthly-5/event/super-smash-bros-ultimate-singles', 'numEntrants': 12, 'videogame': {'name': 'Super Smash Bros. Ultimate'}}]}, {'id': 727472, 'name': 'Guildhouse Weekly 154 - SSBU & GGST', 'city': 'San Jose', 'slug': 'tournament/guildhouse-weekly-154-ssbu-ggst', 'startAt': 1730944800, 'events': [{'slug': 'tournament/guildhouse-weekly-154-ssbu-ggst/event/smash-ultimate-singles-switch-7-30-pm', 'numEntrants': 31, 'videogame': {'name': 'Super Smash Bros. Ultimate'}}, {'slug': 'tournament/guildhouse-weekly-154-ssbu-ggst/event/guilty-gear-strive-1v1-ps4-pro-7-45-pm', 'numEntrants': 19, 'videogame': {'name': 'Guilty Gear: Strive'}}]}, {'id': 727552, 'name': 'Melee @ Abbey Tavern #71 Election Night 2024', 'city': 'San Francisco', 'slug': 'tournament/melee-abbey-tavern-71-election-night-2024', 'startAt': 1730863800, 'events': [{'slug': 'tournament/melee-abbey-tavern-71-election-night-2024/event/melee-singles-7-30-start', 'numEntrants': 22, 'videogame': {'name': 'Super Smash Bros. Melee'}}, {'slug': 'tournament/melee-abbey-tavern-71-election-night-2024/event/melee-doubles-6-30-start', 'numEntrants': 5, 'videogame': {'name': 'Super Smash Bros. Melee'}}]}, {'id': 729062, 'name': 'Guildhouse Weekly 155 - SSBU, GGST, GBVSR!', 'city': 'San Jose', 'slug': 'tournament/guildhouse-weekly-155-ssbu-ggst-gbvsr', 'startAt': 1731549600, 'events': [{'slug': 'tournament/guildhouse-weekly-155-ssbu-ggst-gbvsr/event/smash-ultimate-singles-switch-7-30-pm', 'numEntrants': 32, 'videogame': {'name': 'Super Smash Bros. Ultimate'}}, {'slug': 'tournament/guildhouse-weekly-155-ssbu-ggst-gbvsr/event/granblue-fantasy-versus-rising-ps4onps5-7-30', 'numEntrants': 12, 'videogame': {'name': 'Granblue Fantasy Versus: Rising'}}, {'slug': 'tournament/guildhouse-weekly-155-ssbu-ggst-gbvsr/event/guilty-gear-strive-1v1-ps4-pro-7-45-pm', 'numEntrants': 17, 'videogame': {'name': 'Guilty Gear: Strive'}}]}, {'id': 733587, 'name': 'Tech City Tekken #152 - Tekken 8', 'city': 'Sunnyvale', 'slug': 'tournament/tech-city-tekken-152-tekken-8', 'startAt': 1732246200, 'events': [{'slug': 'tournament/tech-city-tekken-152-tekken-8/event/tekken-8-singles', 'numEntrants': 15, 'videogame': {'name': 'TEKKEN 8'}}]}, {'id': 721160, 'name': 'SFRecAndTech2', 'city': 'San Francisco', 'slug': 'tournament/sfrecandtech2', 'startAt': 1732330800, 'events': [{'slug': 'tournament/sfrecandtech2/event/melee-singles', 'numEntrants': 9, 'videogame': {'name': 'Super Smash Bros. Melee'}}, {'slug': 'tournament/sfrecandtech2/event/ultimate-singles', 'numEntrants': 8, 'videogame': {'name': 'Super Smash Bros. Ultimate'}}]}, {'id': 732971, 'name': 'Berkeley Melee Mashfest #26', 'city': 'Berkeley', 'slug': 'tournament/berkeley-melee-mashfest-26', 'startAt': 1732392000, 'events': [{'slug': 'tournament/berkeley-melee-mashfest-26/event/singles', 'numEntrants': 5, 'videogame': {'name': 'Super Smash Bros. Melee'}}]}, {'id': 702822, 'name': 'WASEDA RUMBLE 5 - SF6 Teams', 'city': 'Milpitas', 'slug': 'tournament/waseda-rumble-5-sf6-teams', 'startAt': 1732678200, 'events': [{'slug': 'tournament/waseda-rumble-5-sf6-teams/event/street-fighter-6-waseda-2v2-teams', 'numEntrants': 12, 'videogame': {'name': 'Street Fighter 6'}}]}, {'id': 732163, 'name': 'THE GRID #14 - 2D FGC Casuals Night', 'city': 'Milpitas', 'slug': 'tournament/the-grid-14-2d-fgc-casuals-night', 'startAt': 1732071600, 'events': [{'slug': 'tournament/the-grid-14-2d-fgc-casuals-night/event/shaq-fu', 'numEntrants': 0, 'videogame': {'name': 'Shaq-Fu'}}]}, {'id': 731794, 'name': 'Guildhouse Tuesday 39 - Tekken 8 & Rivals 2', 'city': 'San Jose', 'slug': 'tournament/guildhouse-tuesday-39-tekken-8-rivals-2', 'startAt': 1732676400, 'events': [{'slug': 'tournament/guildhouse-tuesday-39-tekken-8-rivals-2/event/rivals-of-aether-2-pc-7-30-pm', 'numEntrants': 23, 'videogame': {'name': 'Rivals of Aether II'}}, {'slug': 'tournament/guildhouse-tuesday-39-tekken-8-rivals-2/event/tekken-8-ps5-8-00-pm', 'numEntrants': 25, 'videogame': {'name': 'TEKKEN 8'}}]}, {'id': 734509, 'name': 'Guildhouse Weekly 157 - SSBU & GGST', 'city': 'San Jose', 'slug': 'tournament/guildhouse-weekly-157-ssbu-ggst', 'startAt': 1732761000, 'events': [{'slug': 'tournament/guildhouse-weekly-157-ssbu-ggst/event/smash-ultimate-doubles-2v2-7-00-pm-pre-reg-only', 'numEntrants': 9, 'videogame': {'name': 'Super Smash Bros. Ultimate'}}, {'slug': 'tournament/guildhouse-weekly-157-ssbu-ggst/event/smash-ultimate-singles-switch-7-30-pm', 'numEntrants': 46, 'videogame': {'name': 'Super Smash Bros. Ultimate'}}, {'slug': 'tournament/guildhouse-weekly-157-ssbu-ggst/event/guilty-gear-strive-1v1-ps4-pro-7-45-pm', 'numEntrants': 12, 'videogame': {'name': 'Guilty Gear: Strive'}}]}, {'id': 727475, 'name': 'Guildhouse Fighters 149 - Street Fighter 6 and Melee weekly', 'city': 'San Jose', 'slug': 'tournament/guildhouse-fighters-149-street-fighter-6-and-melee-weekly', 'startAt': 1732242600, 'events': [{'slug': 'tournament/guildhouse-fighters-149-street-fighter-6-and-melee-weekly/event/street-fighter-6-ps5-7-45-pm', 'numEntrants': 30, 'videogame': {'name': 'Street Fighter 6'}}, {'slug': 'tournament/guildhouse-fighters-149-street-fighter-6-and-melee-weekly/event/ssbm-singles-wii-monitors-7-45pm', 'numEntrants': 24, 'videogame': {'name': 'Super Smash Bros. Melee'}}]}, {'id': 732164, 'name': 'GROUND ZERO #2 - 3D FGC Casuals Night', 'city': 'Milpitas', 'slug': 'tournament/ground-zero-2-3d-fgc-casuals-night', 'startAt': 1732158000, 'events': [{'slug': 'tournament/ground-zero-2-3d-fgc-casuals-night/event/shaq-fu', 'numEntrants': 1, 'videogame': {'name': 'Shaq-Fu'}}]}, {'id': 725961, 'name': \"Let 'em Cook! #3\", 'city': 'Oakland', 'slug': 'tournament/let-em-cook-3', 'startAt': 1731726000, 'events': [{'slug': 'tournament/let-em-cook-3/event/ultimate-singles', 'numEntrants': 2, 'videogame': {'name': 'Super Smash Bros. Ultimate'}}]}, {'id': 728029, 'name': 'RetroEdge - Tekken Monthly 5', 'city': 'Vallejo', 'slug': 'tournament/retroedge-tekken-monthly-5', 'startAt': 1731196800, 'events': [{'slug': 'tournament/retroedge-tekken-monthly-5/event/tekken-8-singles', 'numEntrants': 16, 'videogame': {'name': 'TEKKEN 8'}}]}, {'id': 730458, 'name': 'Norcal Dogfight November 2024', 'city': None, 'slug': 'tournament/norcal-dogfight-november-2024', 'startAt': 1731787200, 'events': [{'slug': 'tournament/norcal-dogfight-november-2024/event/uni-2-singles-4-00-pm', 'numEntrants': 8, 'videogame': {'name': 'Under Night In-Birth II Sys:Celes'}}, {'slug': 'tournament/norcal-dogfight-november-2024/event/koihime-enbu-rrr-v3-5-singles-2-00-pm', 'numEntrants': 2, 'videogame': {'name': 'Koihime Enbu RyoRaiRai'}}, {'slug': 'tournament/norcal-dogfight-november-2024/event/guilty-gear-xx-accent-core-plus-r-3-00-pm', 'numEntrants': 4, 'videogame': {'name': 'Guilty Gear XX Accent Core Plus R'}}]}, {'id': 728285, 'name': 'November 2024 Caliburst', 'city': 'Belmont', 'slug': 'tournament/november-2024-caliburst', 'startAt': 1731186000, 'events': [{'slug': 'tournament/november-2024-caliburst/event/6pm-marvel-vs-capcom-2-by-pattheflip', 'numEntrants': 6, 'videogame': {'name': 'Marvel Vs. Capcom 2'}}, {'slug': 'tournament/november-2024-caliburst/event/5pm-gg-xrd-beginner-backyard-brawl', 'numEntrants': 4, 'videogame': {'name': 'Guilty Gear Xrd REV2'}}, {'slug': 'tournament/november-2024-caliburst/event/6pm-skullgirls-by-learn', 'numEntrants': 2, 'videogame': {'name': 'Skullgirls: 2nd Encore'}}, {'slug': 'tournament/november-2024-caliburst/event/2pm-guilty-gear-xrd-rev2-open-bracket', 'numEntrants': 20, 'videogame': {'name': 'Guilty Gear Xrd REV2'}}, {'slug': 'tournament/november-2024-caliburst/event/6pm-suika-game-by-joy', 'numEntrants': 8, 'videogame': {'name': 'Suika Game'}}, {'slug': 'tournament/november-2024-caliburst/event/6pm-chaos-code-by-babbaloo', 'numEntrants': 7, 'videogame': {'name': 'Chaos Code: New Sign of Catastrophe'}}, {'slug': 'tournament/november-2024-caliburst/event/6pm-ultimate-marvel-vs-capcom-3-by-sigspam', 'numEntrants': 4, 'videogame': {'name': 'Ultimate Marvel vs Capcom 3'}}]}, {'id': 711836, 'name': 'Super South Bay Saturday', 'city': 'Santa Clara', 'slug': 'tournament/super-south-bay-saturday', 'startAt': 1730570400, 'events': [{'slug': 'tournament/super-south-bay-saturday/event/ultimate-singles', 'numEntrants': 16, 'videogame': {'name': 'Super Smash Bros. Ultimate'}}]}, {'id': 720549, 'name': 'Ohlone Brawlloween', 'city': 'Newark', 'slug': 'tournament/ohlone-brawlloween', 'startAt': 1730577600, 'events': [{'slug': 'tournament/ohlone-brawlloween/event/brawlloween-ultimate-singles', 'numEntrants': 13, 'videogame': {'name': 'Super Smash Bros. Ultimate'}}, {'slug': 'tournament/ohlone-brawlloween/event/brawlloween-tekken-8', 'numEntrants': 10, 'videogame': {'name': 'TEKKEN 8'}}, {'slug': 'tournament/ohlone-brawlloween/event/brawlloween-guilty-gear-strive', 'numEntrants': 6, 'videogame': {'name': 'Guilty Gear: Strive'}}, {'slug': 'tournament/ohlone-brawlloween/event/brawlloween-mystery', 'numEntrants': 33, 'videogame': {'name': 'Mystery Game'}}, {'slug': 'tournament/ohlone-brawlloween/event/brawlloween-sf6', 'numEntrants': 18, 'videogame': {'name': 'Street Fighter 6'}}]}, {'id': 727477, 'name': 'Guildhouse - Tekken Tuesday 37', 'city': 'San Jose', 'slug': 'tournament/guildhouse-tekken-tuesday-37', 'startAt': 1730862000, 'events': [{'slug': 'tournament/guildhouse-tekken-tuesday-37/event/tekken-8-ps5-8-00-pm', 'numEntrants': 6, 'videogame': {'name': 'TEKKEN 8'}}]}, {'id': 723867, 'name': '924 Melee Nightlife (100$ Pot Bonus)', 'city': 'Berkeley', 'slug': 'tournament/924-melee-nightlife-100-pot-bonus', 'startAt': 1730941200, 'events': [{'slug': 'tournament/924-melee-nightlife-100-pot-bonus/event/melee-singles', 'numEntrants': 25, 'videogame': {'name': 'Super Smash Bros. Melee'}}]}, {'id': 722305, 'name': 'Revival of Kin 256', 'city': None, 'slug': 'tournament/revival-of-kin-256', 'startAt': 1731115800, 'events': [{'slug': 'tournament/revival-of-kin-256/event/ultimate-random-singles', 'numEntrants': 0, 'videogame': {'name': 'Super Smash Bros. Ultimate'}}, {'slug': 'tournament/revival-of-kin-256/event/ultimate-singles-7-30pm', 'numEntrants': 4, 'videogame': {'name': 'Super Smash Bros. Ultimate'}}]}, {'id': 725525, 'name': 'Slugfest #125 - SF6 Weekly', 'city': 'Sunnyvale', 'slug': 'tournament/slugfest-125-sf6-weekly', 'startAt': 1730955600, 'events': [{'slug': 'tournament/slugfest-125-sf6-weekly/event/street-fighter-6-singles', 'numEntrants': 13, 'videogame': {'name': 'Street Fighter 6'}}]}, {'id': 728489, 'name': 'Guildhouse - Tekken Tuesday 38', 'city': 'San Jose', 'slug': 'tournament/guildhouse-tekken-tuesday-38', 'startAt': 1731466800, 'events': [{'slug': 'tournament/guildhouse-tekken-tuesday-38/event/rivals-of-aether-2-pc-7-30-pm', 'numEntrants': 25, 'videogame': {'name': 'Rivals of Aether II'}}, {'slug': 'tournament/guildhouse-tekken-tuesday-38/event/tekken-8-ps5-8-00-pm', 'numEntrants': 11, 'videogame': {'name': 'TEKKEN 8'}}]}, {'id': 729950, 'name': 'Slugfest #126 - SF6 Weekly', 'city': 'Sunnyvale', 'slug': 'tournament/slugfest-126-sf6-weekly', 'startAt': 1731560400, 'events': [{'slug': 'tournament/slugfest-126-sf6-weekly/event/street-fighter-6-singles', 'numEntrants': 6, 'videogame': {'name': 'Street Fighter 6'}}]}, {'id': 731089, 'name': 'Smash the Galaxy #149', 'city': 'Dublin', 'slug': 'tournament/smash-the-galaxy-149', 'startAt': 1731884400, 'events': [{'slug': 'tournament/smash-the-galaxy-149/event/rivals-2-singles', 'numEntrants': 8, 'videogame': {'name': 'Rivals of Aether II'}}, {'slug': 'tournament/smash-the-galaxy-149/event/ultimate-singles', 'numEntrants': 4, 'videogame': {'name': 'Super Smash Bros. Ultimate'}}]}, {'id': 733627, 'name': 'BlinC and You’ll Miss It #82', 'city': 'Petaluma', 'slug': 'tournament/blinc-and-you-ll-miss-it-82', 'startAt': 1732330800, 'events': [{'slug': 'tournament/blinc-and-you-ll-miss-it-82/event/rivals-2-singles', 'numEntrants': 5, 'videogame': {'name': 'Rivals of Aether II'}}, {'slug': 'tournament/blinc-and-you-ll-miss-it-82/event/redemption', 'numEntrants': 0, 'videogame': {'name': 'Super Smash Bros. Ultimate'}}, {'slug': 'tournament/blinc-and-you-ll-miss-it-82/event/singles-ultimate', 'numEntrants': 9, 'videogame': {'name': 'Super Smash Bros. Ultimate'}}]}, {'id': 732992, 'name': 'RATIO RUMBLE 8 - T8 Ratio Teams', 'city': 'Milpitas', 'slug': 'tournament/ratio-rumble-8-t8-ratio-teams', 'startAt': 1732764600, 'events': [{'slug': 'tournament/ratio-rumble-8-t8-ratio-teams/event/tekken-8-ratio-teams', 'numEntrants': 5, 'videogame': {'name': 'TEKKEN 8'}}]}, {'id': 732101, 'name': 'RetroEdge - MvC2 Collection Edition Tourney', 'city': 'Vallejo', 'slug': 'tournament/retroedge-mvc2-collection-edition-tourney', 'startAt': 1732406400, 'events': [{'slug': 'tournament/retroedge-mvc2-collection-edition-tourney/event/marvel-vs-capcom-2-singles', 'numEntrants': 4, 'videogame': {'name': 'Marvel Vs. Capcom 2'}}]}, {'id': 727161, 'name': 'Breakout Smash #21', 'city': 'San Jose', 'slug': 'tournament/breakout-smash-21', 'startAt': 1730777400, 'events': [{'slug': 'tournament/breakout-smash-21/event/smash-singles', 'numEntrants': 3, 'videogame': {'name': 'Super Smash Bros. Ultimate'}}]}, {'id': 728670, 'name': 'Sf State Smash Thursdays  11/7/2024', 'city': None, 'slug': 'tournament/sf-state-smash-thursdays-11-7-2024', 'startAt': 1731033000, 'events': [{'slug': 'tournament/sf-state-smash-thursdays-11-7-2024/event/ultimate-singles', 'numEntrants': 17, 'videogame': {'name': 'Super Smash Bros. Ultimate'}}, {'slug': 'tournament/sf-state-smash-thursdays-11-7-2024/event/rivals-of-aether-2-singles', 'numEntrants': 15, 'videogame': {'name': 'Rivals of Aether II'}}, {'slug': 'tournament/sf-state-smash-thursdays-11-7-2024/event/melee-singles', 'numEntrants': 2, 'videogame': {'name': 'Super Smash Bros. Melee'}}]}, {'id': 728076, 'name': 'VERSUS Reborn #179', 'city': 'Sunnyvale', 'slug': 'tournament/versus-reborn-179', 'startAt': 1730863800, 'events': [{'slug': 'tournament/versus-reborn-179/event/smash-ultimate-doubles', 'numEntrants': 0, 'videogame': {'name': 'Super Smash Bros. Ultimate'}}, {'slug': 'tournament/versus-reborn-179/event/smash-ultimate-singles', 'numEntrants': 10, 'videogame': {'name': 'Super Smash Bros. Ultimate'}}]}, {'id': 728482, 'name': 'Berkeley Melee Mashfest #25', 'city': 'Berkeley', 'slug': 'tournament/berkeley-melee-mashfest-25-1', 'startAt': 1731182400, 'events': [{'slug': 'tournament/berkeley-melee-mashfest-25-1/event/singles', 'numEntrants': 12, 'videogame': {'name': 'Super Smash Bros. Melee'}}]}, {'id': 724751, 'name': 'Berkeley Ultimate Smashfest #25', 'city': 'Berkeley', 'slug': 'tournament/berkeley-ultimate-smashfest-25', 'startAt': 1730574000, 'events': [{'slug': 'tournament/berkeley-ultimate-smashfest-25/event/singles', 'numEntrants': 26, 'videogame': {'name': 'Super Smash Bros. Ultimate'}}, {'slug': 'tournament/berkeley-ultimate-smashfest-25/event/rivals-of-aether-ii-side-bracket', 'numEntrants': 5, 'videogame': {'name': 'Rivals of Aether II'}}]}, {'id': 731047, 'name': 'Sf State Smash Thursdays  11/14/2024', 'city': None, 'slug': 'tournament/sf-state-smash-thursdays-11-14-2024', 'startAt': 1731636000, 'events': [{'slug': 'tournament/sf-state-smash-thursdays-11-14-2024/event/ultimate-singles', 'numEntrants': 17, 'videogame': {'name': 'Super Smash Bros. Ultimate'}}, {'slug': 'tournament/sf-state-smash-thursdays-11-14-2024/event/rivals-of-aether-2-singles', 'numEntrants': 11, 'videogame': {'name': 'Rivals of Aether II'}}, {'slug': 'tournament/sf-state-smash-thursdays-11-14-2024/event/melee-singles', 'numEntrants': 2, 'videogame': {'name': 'Super Smash Bros. Melee'}}]}, {'id': 731456, 'name': 'Melee @ Abbey Tavern #73', 'city': 'San Francisco', 'slug': 'tournament/melee-abbey-tavern-73', 'startAt': 1732069800, 'events': [{'slug': 'tournament/melee-abbey-tavern-73/event/melee-singles-7-30-start', 'numEntrants': 27, 'videogame': {'name': 'Super Smash Bros. Melee'}}, {'slug': 'tournament/melee-abbey-tavern-73/event/melee-doubles-6-30-start', 'numEntrants': 7, 'videogame': {'name': 'Super Smash Bros. Melee'}}]}]}}, 'extensions': {'cacheControl': {'version': 1, 'hints': [{'path': ['tournaments'], 'maxAge': 600, 'scope': 'PRIVATE'}]}, 'queryComplexity': 318}, 'actionRecords': []}\n",
      "Number of tournies in page is:50\n",
      "{'data': {'tournaments': {'nodes': [{'id': 733239, 'name': 'Sf State Smash Thursdays  11/21/2024', 'city': None, 'slug': 'tournament/sf-state-smash-thursdays-11-21-2024', 'startAt': 1732240800, 'events': [{'slug': 'tournament/sf-state-smash-thursdays-11-21-2024/event/ultimate-singles', 'numEntrants': 16, 'videogame': {'name': 'Super Smash Bros. Ultimate'}}, {'slug': 'tournament/sf-state-smash-thursdays-11-21-2024/event/rivals-of-aether-2-singles', 'numEntrants': 9, 'videogame': {'name': 'Rivals of Aether II'}}, {'slug': 'tournament/sf-state-smash-thursdays-11-21-2024/event/melee-singles', 'numEntrants': 6, 'videogame': {'name': 'Super Smash Bros. Melee'}}]}, {'id': 731795, 'name': 'Guildhouse Weekly 156 - SSBU, GGST, UNI2', 'city': 'San Jose', 'slug': 'tournament/guildhouse-weekly-156-ssbu-ggst-uni2', 'startAt': 1732158000, 'events': [{'slug': 'tournament/guildhouse-weekly-156-ssbu-ggst-uni2/event/smash-ultimate-singles-switch-7-30-pm', 'numEntrants': 34, 'videogame': {'name': 'Super Smash Bros. Ultimate'}}, {'slug': 'tournament/guildhouse-weekly-156-ssbu-ggst-uni2/event/guilty-gear-strive-1v1-ps4-pro-7-45-pm', 'numEntrants': 16, 'videogame': {'name': 'Guilty Gear: Strive'}}, {'slug': 'tournament/guildhouse-weekly-156-ssbu-ggst-uni2/event/under-night-in-birth-ii-sys-celes-ps4-7-45', 'numEntrants': 16, 'videogame': {'name': 'Under Night In-Birth II Sys:Celes'}}]}, {'id': 732515, 'name': 'VERSUS Reborn #181', 'city': 'Sunnyvale', 'slug': 'tournament/versus-reborn-181', 'startAt': 1732073400, 'events': [{'slug': 'tournament/versus-reborn-181/event/smash-ultimate-singles', 'numEntrants': 21, 'videogame': {'name': 'Super Smash Bros. Ultimate'}}, {'slug': 'tournament/versus-reborn-181/event/smash-ultimate-doubles', 'numEntrants': 4, 'videogame': {'name': 'Super Smash Bros. Ultimate'}}]}, {'id': 734812, 'name': 'VERSUS Reborn #182 Thanksgiving Potluck!', 'city': 'Sunnyvale', 'slug': 'tournament/versus-reborn-182-thanksgiving-potluck-1', 'startAt': 1732678200, 'events': [{'slug': 'tournament/versus-reborn-182-thanksgiving-potluck-1/event/smash-ultimate-singles', 'numEntrants': 17, 'videogame': {'name': 'Super Smash Bros. Ultimate'}}, {'slug': 'tournament/versus-reborn-182-thanksgiving-potluck-1/event/smash-ultimate-doubles', 'numEntrants': 4, 'videogame': {'name': 'Super Smash Bros. Ultimate'}}]}, {'id': 725557, 'name': 'Battle for the Bay 49.5', 'city': 'San Francisco', 'slug': 'tournament/battle-for-the-bay-49-5', 'startAt': 1730574000, 'events': [{'slug': 'tournament/battle-for-the-bay-49-5/event/ultimate-singles', 'numEntrants': 4, 'videogame': {'name': 'Super Smash Bros. Ultimate'}}, {'slug': 'tournament/battle-for-the-bay-49-5/event/ultimate-random-singles', 'numEntrants': 3, 'videogame': {'name': 'Super Smash Bros. Ultimate'}}]}, {'id': 726744, 'name': 'Proving Grounds: Alpha', 'city': 'Berkeley', 'slug': 'tournament/proving-grounds-alpha', 'startAt': 1731553200, 'events': [{'slug': 'tournament/proving-grounds-alpha/event/street-fighter-6', 'numEntrants': 27, 'videogame': {'name': 'Street Fighter 6'}}, {'slug': 'tournament/proving-grounds-alpha/event/tekken-8', 'numEntrants': 13, 'videogame': {'name': 'TEKKEN 8'}}]}, {'id': 729495, 'name': 'THE GRID #13 - 2D FGC Night', 'city': 'Milpitas', 'slug': 'tournament/the-grid-13-2d-fgc-night', 'startAt': 1731466800, 'events': [{'slug': 'tournament/the-grid-13-2d-fgc-night/event/shaq-fu', 'numEntrants': 0, 'videogame': {'name': 'Shaq-Fu'}}]}, {'id': 729966, 'name': 'GROUND ZERO #1 - 3D FGC Night', 'city': 'Milpitas', 'slug': 'tournament/ground-zero-1-3d-fgc-night', 'startAt': 1731553200, 'events': [{'slug': 'tournament/ground-zero-1-3d-fgc-night/event/shaq-fu', 'numEntrants': 0, 'videogame': {'name': 'Shaq-Fu'}}]}, {'id': 705610, 'name': 'The Throne 2', 'city': 'San Jose', 'slug': 'tournament/the-throne-2', 'startAt': 1731096000, 'events': [{'slug': 'tournament/the-throne-2/event/ultimate-singles', 'numEntrants': 16, 'videogame': {'name': 'Super Smash Bros. Ultimate'}}, {'slug': 'tournament/the-throne-2/event/rivals-of-aether-ii-singles', 'numEntrants': 8, 'videogame': {'name': 'Rivals of Aether II'}}]}, {'id': 731791, 'name': 'Guildhouse - Tekken Tuesday 39', 'city': 'San Jose', 'slug': 'tournament/guildhouse-tekken-tuesday-39', 'startAt': 1732676400, 'events': [{'slug': 'tournament/guildhouse-tekken-tuesday-39/event/tekken-8-ps5-8-00-pm', 'numEntrants': 4, 'videogame': {'name': 'TEKKEN 8'}}]}, {'id': 733593, 'name': 'Smash the Galaxy #150', 'city': 'Dublin', 'slug': 'tournament/smash-the-galaxy-150', 'startAt': 1732489200, 'events': [{'slug': 'tournament/smash-the-galaxy-150/event/p-singles', 'numEntrants': 2, 'videogame': {'name': 'Project+'}}, {'slug': 'tournament/smash-the-galaxy-150/event/rivals-singles', 'numEntrants': 2, 'videogame': {'name': 'Rivals of Aether'}}]}, {'id': 733594, 'name': 'Melee @ Abbey Tavern #74', 'city': 'San Francisco', 'slug': 'tournament/melee-abbey-tavern-74', 'startAt': 1732674600, 'events': [{'slug': 'tournament/melee-abbey-tavern-74/event/melee-singles-7-30-start', 'numEntrants': 35, 'videogame': {'name': 'Super Smash Bros. Melee'}}, {'slug': 'tournament/melee-abbey-tavern-74/event/melee-doubles-6-30-start', 'numEntrants': 8, 'videogame': {'name': 'Super Smash Bros. Melee'}}]}, {'id': 730830, 'name': 'Berkeley Ultimate Smashfest #26', 'city': 'Berkeley', 'slug': 'tournament/berkeley-ultimate-smashfest-26', 'startAt': 1731787200, 'events': [{'slug': 'tournament/berkeley-ultimate-smashfest-26/event/singles', 'numEntrants': 15, 'videogame': {'name': 'Super Smash Bros. Ultimate'}}, {'slug': 'tournament/berkeley-ultimate-smashfest-26/event/discovery-side-bracket', 'numEntrants': 10, 'videogame': {'name': 'Super Smash Bros. Ultimate'}}]}, {'id': 728040, 'name': 'RetroEdge - Street Fighter Monthly 4', 'city': 'Vallejo', 'slug': 'tournament/retroedge-street-fighter-monthly-4', 'startAt': 1731801600, 'events': [{'slug': 'tournament/retroedge-street-fighter-monthly-4/event/street-fighter-6-singles', 'numEntrants': 14, 'videogame': {'name': 'Street Fighter 6'}}]}]}}, 'extensions': {'cacheControl': {'version': 1, 'hints': [{'path': ['tournaments'], 'maxAge': 600, 'scope': 'PRIVATE'}]}, 'queryComplexity': 78}, 'actionRecords': []}\n",
      "Number of tournies in page is:14\n",
      "{'data': {'tournaments': {'nodes': []}}, 'extensions': {'cacheControl': {'version': 1, 'hints': [{'path': ['tournaments'], 'maxAge': 600, 'scope': 'PRIVATE'}]}, 'queryComplexity': 0}, 'actionRecords': []}\n",
      "Number of tournies in page is:0\n",
      "{'data': {'tournaments': {'nodes': []}}, 'extensions': {'cacheControl': {'version': 1, 'hints': [{'path': ['tournaments'], 'maxAge': 600, 'scope': 'PRIVATE'}]}, 'queryComplexity': 0}, 'actionRecords': []}\n",
      "Number of tournies in page is:0\n",
      "{'data': {'tournaments': {'nodes': []}}, 'extensions': {'cacheControl': {'version': 1, 'hints': [{'path': ['tournaments'], 'maxAge': 600, 'scope': 'PRIVATE'}]}, 'queryComplexity': 0}, 'actionRecords': []}\n",
      "Number of tournies in page is:0\n",
      "{'data': {'tournaments': {'nodes': []}}, 'extensions': {'cacheControl': {'version': 1, 'hints': [{'path': ['tournaments'], 'maxAge': 600, 'scope': 'PRIVATE'}]}, 'queryComplexity': 0}, 'actionRecords': []}\n",
      "Number of tournies in page is:0\n",
      "{'data': {'tournaments': {'nodes': []}}, 'extensions': {'cacheControl': {'version': 1, 'hints': [{'path': ['tournaments'], 'maxAge': 600, 'scope': 'PRIVATE'}]}, 'queryComplexity': 0}, 'actionRecords': []}\n",
      "Number of tournies in page is:0\n",
      "{'data': {'tournaments': {'nodes': []}}, 'extensions': {'cacheControl': {'version': 1, 'hints': [{'path': ['tournaments'], 'maxAge': 600, 'scope': 'PRIVATE'}]}, 'queryComplexity': 0}, 'actionRecords': []}\n",
      "Number of tournies in page is:0\n",
      "{'data': {'tournaments': {'nodes': []}}, 'extensions': {'cacheControl': {'version': 1, 'hints': [{'path': ['tournaments'], 'maxAge': 600, 'scope': 'PRIVATE'}]}, 'queryComplexity': 0}, 'actionRecords': []}\n",
      "Number of tournies in page is:0\n",
      "{'data': {'tournaments': {'nodes': [{'id': 724960, 'name': 'Dairy Free Series at UC Davis #3', 'city': 'Davis', 'slug': 'tournament/dairy-free-series-at-uc-davis-3', 'startAt': 1730570400, 'events': [{'slug': 'tournament/dairy-free-series-at-uc-davis-3/event/reverse-mains-side-bracket', 'numEntrants': 4, 'videogame': {'name': 'Super Smash Bros. Ultimate'}}, {'slug': 'tournament/dairy-free-series-at-uc-davis-3/event/ultimate-singles', 'numEntrants': 15, 'videogame': {'name': 'Super Smash Bros. Ultimate'}}, {'slug': 'tournament/dairy-free-series-at-uc-davis-3/event/rivals-of-aether-ii-singles', 'numEntrants': 4, 'videogame': {'name': 'Rivals of Aether II'}}]}, {'id': 728005, 'name': 'CECC West Open Tournaments', 'city': 'Sacramento', 'slug': 'tournament/cecc-west-open-tournaments', 'startAt': 1731780000, 'events': [{'slug': 'tournament/cecc-west-open-tournaments/event/ssbu-high-school-and-under-bracket-saturday', 'numEntrants': 36, 'videogame': {'name': 'Super Smash Bros. Ultimate'}}, {'slug': 'tournament/cecc-west-open-tournaments/event/ssbu-open-bracket-sunday', 'numEntrants': 44, 'videogame': {'name': 'Super Smash Bros. Ultimate'}}, {'slug': 'tournament/cecc-west-open-tournaments/event/sf6-open-bracket-sunday', 'numEntrants': 28, 'videogame': {'name': 'Street Fighter 6'}}, {'slug': 'tournament/cecc-west-open-tournaments/event/ssbu-redemption-bracket', 'numEntrants': 2, 'videogame': {'name': 'Super Smash Bros. Ultimate'}}, {'slug': 'tournament/cecc-west-open-tournaments/event/sf6-redemption-bracket', 'numEntrants': 8, 'videogame': {'name': 'Street Fighter 6'}}]}, {'id': 732505, 'name': 'Dairy Free Series at UC Davis#6', 'city': 'Davis', 'slug': 'tournament/dairy-free-series-at-uc-davis-6', 'startAt': 1732388400, 'events': [{'slug': 'tournament/dairy-free-series-at-uc-davis-6/event/items', 'numEntrants': 7, 'videogame': {'name': 'Super Smash Bros. Ultimate'}}, {'slug': 'tournament/dairy-free-series-at-uc-davis-6/event/ultimate-singles', 'numEntrants': 20, 'videogame': {'name': 'Super Smash Bros. Ultimate'}}, {'slug': 'tournament/dairy-free-series-at-uc-davis-6/event/rivals-of-aether-ii-singles', 'numEntrants': 10, 'videogame': {'name': 'Rivals of Aether II'}}]}, {'id': 734840, 'name': 'Cornerstone #60', 'city': 'Sacramento', 'slug': 'tournament/cornerstone-60', 'startAt': 1732762800, 'events': [{'slug': 'tournament/cornerstone-60/event/ultimate-singles', 'numEntrants': 39, 'videogame': {'name': 'Super Smash Bros. Ultimate'}}]}, {'id': 733305, 'name': 'Fire & Ice II - Intergrade #36', 'city': 'Rocklin', 'slug': 'tournament/fire-ice-ii-intergrade-36', 'startAt': 1732327200, 'events': [{'slug': 'tournament/fire-ice-ii-intergrade-36/event/guilty-gear-strive-redemption-bracket-8-30-pm-start-time', 'numEntrants': 0, 'videogame': {'name': 'Guilty Gear: Strive'}}, {'slug': 'tournament/fire-ice-ii-intergrade-36/event/tekken-redemption', 'numEntrants': 0, 'videogame': {'name': 'TEKKEN 8'}}, {'slug': 'tournament/fire-ice-ii-intergrade-36/event/ultimate-redemption', 'numEntrants': 0, 'videogame': {'name': 'Super Smash Bros. Ultimate'}}, {'slug': 'tournament/fire-ice-ii-intergrade-36/event/ultimate-singles', 'numEntrants': 26, 'videogame': {'name': 'Super Smash Bros. Ultimate'}}, {'slug': 'tournament/fire-ice-ii-intergrade-36/event/street-fighter-6', 'numEntrants': 18, 'videogame': {'name': 'Street Fighter 6'}}, {'slug': 'tournament/fire-ice-ii-intergrade-36/event/guilty-gear-strive', 'numEntrants': 14, 'videogame': {'name': 'Guilty Gear: Strive'}}, {'slug': 'tournament/fire-ice-ii-intergrade-36/event/street-fighter-6-redemption-bracket-9-30-pm-start-time', 'numEntrants': 8, 'videogame': {'name': 'Street Fighter 6'}}, {'slug': 'tournament/fire-ice-ii-intergrade-36/event/tekken-8', 'numEntrants': 5, 'videogame': {'name': 'TEKKEN 8'}}, {'slug': 'tournament/fire-ice-ii-intergrade-36/event/free-doubles-starts-at-6-30-pm', 'numEntrants': 4, 'videogame': {'name': 'Super Smash Bros. Ultimate'}}, {'slug': 'tournament/fire-ice-ii-intergrade-36/event/rivals-of-aether-2-singles', 'numEntrants': 14, 'videogame': {'name': 'Rivals of Aether II'}}]}, {'id': 728960, 'name': 'FGC@UCD Bovine Brawl #3', 'city': 'Davis', 'slug': 'tournament/fgc-ucd-bovine-brawl-3', 'startAt': 1731178800, 'events': [{'slug': 'tournament/fgc-ucd-bovine-brawl-3/event/guilty-gear-strive-bracket', 'numEntrants': 5, 'videogame': {'name': 'Guilty Gear: Strive'}}, {'slug': 'tournament/fgc-ucd-bovine-brawl-3/event/guilty-gear-strive-redemption-bracket', 'numEntrants': 0, 'videogame': {'name': 'Guilty Gear: Strive'}}]}, {'id': 730993, 'name': 'Tag In Battle (November 2024)', 'city': 'Elk Grove', 'slug': 'tournament/tag-in-battle-november-2024', 'startAt': 1732392000, 'events': [{'slug': 'tournament/tag-in-battle-november-2024/event/marvel-vs-capcom-2-ps4', 'numEntrants': 11, 'videogame': {'name': 'Marvel Vs. Capcom 2'}}, {'slug': 'tournament/tag-in-battle-november-2024/event/under-night-in-birth-ii-sys-celes-ps4', 'numEntrants': 8, 'videogame': {'name': 'Under Night In-Birth II Sys:Celes'}}, {'slug': 'tournament/tag-in-battle-november-2024/event/guilty-gear-xrd-rev2-ps4', 'numEntrants': 18, 'videogame': {'name': 'Guilty Gear Xrd REV2'}}, {'slug': 'tournament/tag-in-battle-november-2024/event/granblue-fantasy-versus-rising-ps4', 'numEntrants': 17, 'videogame': {'name': 'Granblue Fantasy Versus: Rising'}}]}, {'id': 720579, 'name': 'Rise of the Álfar', 'city': 'Folsom', 'slug': 'tournament/rise-of-the-lfar', 'startAt': 1730574000, 'events': [{'slug': 'tournament/rise-of-the-lfar/event/street-fighter-6', 'numEntrants': 18, 'videogame': {'name': 'Street Fighter 6'}}, {'slug': 'tournament/rise-of-the-lfar/event/street-fighter-redemption', 'numEntrants': 6, 'videogame': {'name': 'Street Fighter 6'}}, {'slug': 'tournament/rise-of-the-lfar/event/tekken-8', 'numEntrants': 6, 'videogame': {'name': 'TEKKEN 8'}}, {'slug': 'tournament/rise-of-the-lfar/event/double-elimination-costume-contest', 'numEntrants': 6, 'videogame': {'name': 'Cosplay Competition'}}, {'slug': 'tournament/rise-of-the-lfar/event/vampire-savior-darkstalkers-3', 'numEntrants': 14, 'videogame': {'name': 'Vampire Savior'}}]}, {'id': 733575, 'name': '2024/25 Davis Fall Weekly #6', 'city': 'Davis', 'slug': 'tournament/2024-25-davis-fall-weekly-6', 'startAt': 1732395600, 'events': [{'slug': 'tournament/2024-25-davis-fall-weekly-6/event/main-bracket-singles', 'numEntrants': 11, 'videogame': {'name': 'Super Smash Bros. Melee'}}]}, {'id': 735495, 'name': 'Ride of the Valkyries #6', 'city': 'Folsom', 'slug': 'tournament/ride-of-the-valkyries-6', 'startAt': 1732996800, 'events': [{'slug': 'tournament/ride-of-the-valkyries-6/event/tekken-redemption', 'numEntrants': 0, 'videogame': {'name': 'TEKKEN 8'}}, {'slug': 'tournament/ride-of-the-valkyries-6/event/street-fighter-6', 'numEntrants': 11, 'videogame': {'name': 'Street Fighter 6'}}, {'slug': 'tournament/ride-of-the-valkyries-6/event/tekken-8', 'numEntrants': 5, 'videogame': {'name': 'TEKKEN 8'}}, {'slug': 'tournament/ride-of-the-valkyries-6/event/mystery-bracket', 'numEntrants': 8, 'videogame': {'name': 'Mystery Game'}}]}, {'id': 704333, 'name': 'Fighting Game Jamboree', 'city': 'Elk Grove', 'slug': 'tournament/fighting-game-jamboree', 'startAt': 1731186000, 'events': [{'slug': 'tournament/fighting-game-jamboree/event/tekken-8-side-tournament', 'numEntrants': 14, 'videogame': {'name': 'TEKKEN 8'}}, {'slug': 'tournament/fighting-game-jamboree/event/street-fighter-6', 'numEntrants': 25, 'videogame': {'name': 'Street Fighter 6'}}, {'slug': 'tournament/fighting-game-jamboree/event/redemption-bracket', 'numEntrants': 4, 'videogame': {'name': 'Street Fighter 6'}}]}, {'id': 730522, 'name': 'Cornerstone #59', 'city': 'Sacramento', 'slug': 'tournament/cornerstone-59', 'startAt': 1731553200, 'events': [{'slug': 'tournament/cornerstone-59/event/ultimate-singles', 'numEntrants': 51, 'videogame': {'name': 'Super Smash Bros. Ultimate'}}]}, {'id': 730063, 'name': 'Dairy Free Series at UC Davis #5', 'city': 'Davis', 'slug': 'tournament/dairy-free-series-at-uc-davis-5', 'startAt': 1731787200, 'events': [{'slug': 'tournament/dairy-free-series-at-uc-davis-5/event/super-sudden-death', 'numEntrants': 2, 'videogame': {'name': 'Super Smash Bros. Ultimate'}}, {'slug': 'tournament/dairy-free-series-at-uc-davis-5/event/ultimate-singles', 'numEntrants': 20, 'videogame': {'name': 'Super Smash Bros. Ultimate'}}, {'slug': 'tournament/dairy-free-series-at-uc-davis-5/event/rivals-of-aether-ii-singles', 'numEntrants': 11, 'videogame': {'name': 'Rivals of Aether II'}}]}, {'id': 729114, 'name': '2024/25 Davis Fall Weekly #5', 'city': 'Davis', 'slug': 'tournament/2024-25-davis-fall-weekly-5', 'startAt': 1731186000, 'events': [{'slug': 'tournament/2024-25-davis-fall-weekly-5/event/main-bracket-singles', 'numEntrants': 12, 'videogame': {'name': 'Super Smash Bros. Melee'}}]}, {'id': 732146, 'name': 'Cereal Clash #6', 'city': 'Sacramento', 'slug': 'tournament/cereal-clash-6', 'startAt': 1732485600, 'events': [{'slug': 'tournament/cereal-clash-6/event/free-redemption-bracket', 'numEntrants': 0, 'videogame': {'name': 'Super Smash Bros. Ultimate'}}, {'slug': 'tournament/cereal-clash-6/event/ultimate-singles', 'numEntrants': 7, 'videogame': {'name': 'Super Smash Bros. Ultimate'}}, {'slug': 'tournament/cereal-clash-6/event/seasonal-stages', 'numEntrants': 6, 'videogame': {'name': 'Super Smash Bros. Ultimate'}}]}, {'id': 724229, 'name': '2024/25 Davis Fall Weekly #4', 'city': 'Davis', 'slug': 'tournament/2024-25-davis-fall-weekly-4', 'startAt': 1730577600, 'events': [{'slug': 'tournament/2024-25-davis-fall-weekly-4/event/main-bracket-singles', 'numEntrants': 12, 'videogame': {'name': 'Super Smash Bros. Melee'}}]}, {'id': 727597, 'name': 'Dairy Free Series at UC Davis #4', 'city': 'Davis', 'slug': 'tournament/dairy-free-series-at-uc-davis-4', 'startAt': 1731182400, 'events': [{'slug': 'tournament/dairy-free-series-at-uc-davis-4/event/custom-bans-side-bracket', 'numEntrants': 3, 'videogame': {'name': 'Super Smash Bros. Ultimate'}}, {'slug': 'tournament/dairy-free-series-at-uc-davis-4/event/ultimate-singles', 'numEntrants': 20, 'videogame': {'name': 'Super Smash Bros. Ultimate'}}, {'slug': 'tournament/dairy-free-series-at-uc-davis-4/event/rivals-of-aether-ii-singles', 'numEntrants': 5, 'videogame': {'name': 'Rivals of Aether II'}}]}, {'id': 729369, 'name': \"Trey's Trashcan - Rivals 2, Melee and P+\", 'city': 'Rancho Cordova', 'slug': 'tournament/trey-s-trashcan-rivals-2-melee-and-p', 'startAt': 1731461400, 'events': [{'slug': 'tournament/trey-s-trashcan-rivals-2-melee-and-p/event/melee-singles', 'numEntrants': 19, 'videogame': {'name': 'Super Smash Bros. Melee'}}, {'slug': 'tournament/trey-s-trashcan-rivals-2-melee-and-p/event/p-singles', 'numEntrants': 12, 'videogame': {'name': 'Project+'}}, {'slug': 'tournament/trey-s-trashcan-rivals-2-melee-and-p/event/rivals-2-singles', 'numEntrants': 18, 'videogame': {'name': 'Rivals of Aether II'}}]}, {'id': 724426, 'name': 'Cereal Killer Clash', 'city': 'Sacramento', 'slug': 'tournament/cereal-killer-clash', 'startAt': 1730671200, 'events': [{'slug': 'tournament/cereal-killer-clash/event/ultimate-singles-66-6-bonus-pot', 'numEntrants': 11, 'videogame': {'name': 'Super Smash Bros. Ultimate'}}, {'slug': 'tournament/cereal-killer-clash/event/double-elimination-costume-contest', 'numEntrants': 4, 'videogame': {'name': 'Cosplay Competition'}}, {'slug': 'tournament/cereal-killer-clash/event/life-death-item-bracket', 'numEntrants': 6, 'videogame': {'name': 'Super Smash Bros. Ultimate'}}, {'slug': 'tournament/cereal-killer-clash/event/free-redemption-bracket', 'numEntrants': 2, 'videogame': {'name': 'Super Smash Bros. Ultimate'}}]}, {'id': 713293, 'name': 'The Garden #1 ($250 Pot Bonus)', 'city': 'Stockton', 'slug': 'tournament/the-garden-1-250-pot-bonus', 'startAt': 1731196800, 'events': [{'slug': 'tournament/the-garden-1-250-pot-bonus/event/ultimate-singles', 'numEntrants': 41, 'videogame': {'name': 'Super Smash Bros. Ultimate'}}]}, {'id': 726642, 'name': 'Go4 Melee Mondays #7', 'city': 'Rancho Cordova', 'slug': 'tournament/go4-melee-mondays-7', 'startAt': 1732582800, 'events': [{'slug': 'tournament/go4-melee-mondays-7/event/melee-doubles', 'numEntrants': 2, 'videogame': {'name': 'Super Smash Bros. Melee'}}, {'slug': 'tournament/go4-melee-mondays-7/event/melee-singles', 'numEntrants': 17, 'videogame': {'name': 'Super Smash Bros. Melee'}}]}]}}, 'extensions': {'cacheControl': {'version': 1, 'hints': [{'path': ['tournaments'], 'maxAge': 600, 'scope': 'PRIVATE'}]}, 'queryComplexity': 189}, 'actionRecords': []}\n",
      "Number of tournies in page is:21\n",
      "{'data': {'tournaments': {'nodes': []}}, 'extensions': {'cacheControl': {'version': 1, 'hints': [{'path': ['tournaments'], 'maxAge': 600, 'scope': 'PRIVATE'}]}, 'queryComplexity': 0}, 'actionRecords': []}\n",
      "Number of tournies in page is:0\n",
      "{'data': {'tournaments': {'nodes': []}}, 'extensions': {'cacheControl': {'version': 1, 'hints': [{'path': ['tournaments'], 'maxAge': 600, 'scope': 'PRIVATE'}]}, 'queryComplexity': 0}, 'actionRecords': []}\n",
      "Number of tournies in page is:0\n",
      "{'data': {'tournaments': {'nodes': []}}, 'extensions': {'cacheControl': {'version': 1, 'hints': [{'path': ['tournaments'], 'maxAge': 600, 'scope': 'PRIVATE'}]}, 'queryComplexity': 0}, 'actionRecords': []}\n",
      "Number of tournies in page is:0\n",
      "{'data': {'tournaments': {'nodes': []}}, 'extensions': {'cacheControl': {'version': 1, 'hints': [{'path': ['tournaments'], 'maxAge': 600, 'scope': 'PRIVATE'}]}, 'queryComplexity': 0}, 'actionRecords': []}\n",
      "Number of tournies in page is:0\n",
      "{'data': {'tournaments': {'nodes': []}}, 'extensions': {'cacheControl': {'version': 1, 'hints': [{'path': ['tournaments'], 'maxAge': 600, 'scope': 'PRIVATE'}]}, 'queryComplexity': 0}, 'actionRecords': []}\n",
      "Number of tournies in page is:0\n",
      "{'data': {'tournaments': {'nodes': []}}, 'extensions': {'cacheControl': {'version': 1, 'hints': [{'path': ['tournaments'], 'maxAge': 600, 'scope': 'PRIVATE'}]}, 'queryComplexity': 0}, 'actionRecords': []}\n",
      "Number of tournies in page is:0\n",
      "{'data': {'tournaments': {'nodes': []}}, 'extensions': {'cacheControl': {'version': 1, 'hints': [{'path': ['tournaments'], 'maxAge': 600, 'scope': 'PRIVATE'}]}, 'queryComplexity': 0}, 'actionRecords': []}\n",
      "Number of tournies in page is:0\n",
      "{'data': {'tournaments': {'nodes': []}}, 'extensions': {'cacheControl': {'version': 1, 'hints': [{'path': ['tournaments'], 'maxAge': 600, 'scope': 'PRIVATE'}]}, 'queryComplexity': 0}, 'actionRecords': []}\n",
      "Number of tournies in page is:0\n",
      "original shape: (195, 7)\n",
      "original columns: Index(['index', 'id', 'name', 'city', 'slug', 'startAt', 'events'], dtype='object')\n",
      "lists: [], dicts: ['events']\n",
      "flattening: events\n",
      "lists: [], dicts: []\n",
      "final shape: (195, 9)\n",
      "final columns: Index(['index', 'id', 'name', 'city', 'slug', 'startAt', 'events.slug',\n",
      "       'events.numEntrants', 'events.videogame.name'],\n",
      "      dtype='object')\n",
      "Warning: 'events' column missing in flat_tournies.\n",
      "   index      id                              name        city  \\\n",
      "0      0  724960  Dairy Free Series at UC Davis #3       Davis   \n",
      "1      0  724960  Dairy Free Series at UC Davis #3       Davis   \n",
      "2      0  724960  Dairy Free Series at UC Davis #3       Davis   \n",
      "3      1  728005        CECC West Open Tournaments  Sacramento   \n",
      "4      1  728005        CECC West Open Tournaments  Sacramento   \n",
      "\n",
      "                                         slug     startAt  \\\n",
      "0  tournament/dairy-free-series-at-uc-davis-3  1730570400   \n",
      "1  tournament/dairy-free-series-at-uc-davis-3  1730570400   \n",
      "2  tournament/dairy-free-series-at-uc-davis-3  1730570400   \n",
      "3       tournament/cecc-west-open-tournaments  1731780000   \n",
      "4       tournament/cecc-west-open-tournaments  1731780000   \n",
      "\n",
      "                                         events.slug  events.numEntrants  \\\n",
      "0  tournament/dairy-free-series-at-uc-davis-3/eve...                   4   \n",
      "1  tournament/dairy-free-series-at-uc-davis-3/eve...                  15   \n",
      "2  tournament/dairy-free-series-at-uc-davis-3/eve...                   4   \n",
      "3  tournament/cecc-west-open-tournaments/event/ss...                  36   \n",
      "4  tournament/cecc-west-open-tournaments/event/ss...                  44   \n",
      "\n",
      "        events.videogame.name  \n",
      "0  Super Smash Bros. Ultimate  \n",
      "1  Super Smash Bros. Ultimate  \n",
      "2         Rivals of Aether II  \n",
      "3  Super Smash Bros. Ultimate  \n",
      "4  Super Smash Bros. Ultimate  \n"
     ]
    }
   ],
   "source": [
    "bay_tournies = get_all_tournies(AUTH_TOKEN, queries[1], SF_BASED_COORDS, SF_RADIUS, NUM_PER_PAGE)\n",
    "sac_tournies = get_all_tournies(AUTH_TOKEN, queries[1], SAC_BASED_COORDS, SAC_RADIUS, NUM_PER_PAGE)\n",
    "tournies = sac_tournies + bay_tournies\n",
    "np_tournies = pd.DataFrame(tournies).explode('events')\n",
    "flat_tournies = flatten_nested_json_df(np_tournies)\n",
    "\n",
    "if 'events' not in flat_tournies.columns:\n",
    "    print(\"Warning: 'events' column missing in flat_tournies.\")\n",
    "    print(flat_tournies.head())  # Debugging information\n",
    "else:\n",
    "    ult_tournies = flat_tournies[\n",
    "        flat_tournies['events'].apply(\n",
    "            lambda x: isinstance(x, dict) and x.get('videogame', {}).get('name') == 'Super Smash Bros. Ultimate'\n",
    "        ) &\n",
    "        flat_tournies['events'].apply(\n",
    "            lambda x: isinstance(x, dict) and x.get('numEntrants', 0) >= 16\n",
    "        )\n",
    "    ]\n",
    "\n",
    "ult_tournies = ult_tournies.reset_index(drop=True)\n",
    "\n",
    "ult_tournies['startgg_url'] = ult_tournies['events'].apply(lambda x: x['slug'] if isinstance(x, dict) and 'slug' in x else None)\n",
    "ult_tournies['startgg_url'] = 'start.gg/' + ult_tournies['startgg_url'].astype('str')\n",
    "ult_tournies['Event Date'] = ult_tournies['startAt'].map(\n",
    "    lambda x: datetime.fromtimestamp(x).strftime('%Y-%m-%d') if pd.notnull(x) and isinstance(x, (int, float)) else None\n",
    ")\n",
    "ult_tournies['StartGG TOURNAMENT_ID'] = ult_tournies['startgg_url'].map(lambda url: url.split(\"/\")[-3:-2][0])\n",
    "ult_tournies['StartGG EVENT_ID'] = ult_tournies['startgg_url'].map(lambda url: url.split(\"/\")[-1:][0]) \n",
    "ult_tournies = ult_tournies.drop_duplicates('startgg_url', keep='first')\n",
    "\n",
    "ult_tournies['jakeSlug'] = ult_tournies['slug'] + '/event/' + ult_tournies['StartGG EVENT_ID']\n",
    "\n",
    "df_list.append(ult_tournies)"
   ]
  },
  {
   "cell_type": "code",
   "execution_count": 43,
   "metadata": {},
   "outputs": [
    {
     "data": {
      "text/plain": [
       "3"
      ]
     },
     "execution_count": 43,
     "metadata": {},
     "output_type": "execute_result"
    }
   ],
   "source": [
    "len(df_list)"
   ]
  }
 ],
 "metadata": {
  "kernelspec": {
   "display_name": "Python 3",
   "language": "python",
   "name": "python3"
  },
  "language_info": {
   "codemirror_mode": {
    "name": "ipython",
    "version": 3
   },
   "file_extension": ".py",
   "mimetype": "text/x-python",
   "name": "python",
   "nbconvert_exporter": "python",
   "pygments_lexer": "ipython3",
   "version": "3.12.2"
  }
 },
 "nbformat": 4,
 "nbformat_minor": 2
}
